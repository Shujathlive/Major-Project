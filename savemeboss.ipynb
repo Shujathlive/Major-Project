{
 "cells": [
  {
   "cell_type": "code",
   "execution_count": 1,
   "metadata": {},
   "outputs": [],
   "source": [
    "#from keras.models import Sequential\n",
    "#from keras.layers import Conv2D , MaxPooling2D"
   ]
  },
  {
   "cell_type": "code",
   "execution_count": 2,
   "metadata": {},
   "outputs": [
    {
     "name": "stderr",
     "output_type": "stream",
     "text": [
      "Using TensorFlow backend.\n"
     ]
    }
   ],
   "source": [
    "import os\n",
    "os.environ['TF_CPP_MIN_LOG_LEVEL']='2'\n",
    "import tensorflow as tf\n",
    "from keras.models import Sequential\n",
    "from keras.layers import Conv2D , MaxPooling2D , Flatten , Dense\n",
    "from keras.preprocessing.image import ImageDataGenerator\n",
    "import cv2\n",
    "import numpy as np"
   ]
  },
  {
   "cell_type": "code",
   "execution_count": 4,
   "metadata": {},
   "outputs": [
    {
     "name": "stdout",
     "output_type": "stream",
     "text": [
      "Found 4540 images belonging to 4 classes.\n",
      "Found 1200 images belonging to 4 classes.\n"
     ]
    }
   ],
   "source": [
    "train_data = ImageDataGenerator(rescale = 1./255,shear_range=0.2,zoom_range=0.2,horizontal_flip=True)\n",
    "test_data = ImageDataGenerator(rescale=1./25)\n",
    "train = train_data.flow_from_directory('C:/Users/ASA/Desktop/training_data',target_size=(64,64),batch_size = 32,class_mode='categorical')\n",
    "test = test_data.flow_from_directory('C:/Users/ASA/Desktop/test',target_size=(64,64),batch_size=32,class_mode='categorical')"
   ]
  },
  {
   "cell_type": "code",
   "execution_count": 5,
   "metadata": {},
   "outputs": [
    {
     "name": "stderr",
     "output_type": "stream",
     "text": [
      "C:\\Users\\ASA\\Anaconda3\\lib\\site-packages\\sklearn\\cross_validation.py:41: DeprecationWarning: This module was deprecated in version 0.18 in favor of the model_selection module into which all the refactored classes and functions are moved. Also note that the interface of the new CV iterators are different from that of this module. This module will be removed in 0.20.\n",
      "  \"This module will be removed in 0.20.\", DeprecationWarning)\n"
     ]
    }
   ],
   "source": [
    "from sklearn import cross_validation\n",
    "from sklearn.ensemble import RandomForestClassifier\n",
    "model = RandomForestClassifier(n_estimators=100)\n",
    "#Simple K-Fold cross validation. 10 folds.\n",
    "cv = cross_validation.KFold(len(train), n_folds=10)"
   ]
  },
  {
   "cell_type": "code",
   "execution_count": 6,
   "metadata": {},
   "outputs": [
    {
     "name": "stdout",
     "output_type": "stream",
     "text": [
      "_________________________________________________________________\n",
      "Layer (type)                 Output Shape              Param #   \n",
      "=================================================================\n",
      "conv2d_1 (Conv2D)            (None, 62, 62, 32)        896       \n",
      "_________________________________________________________________\n",
      "max_pooling2d_1 (MaxPooling2 (None, 31, 31, 32)        0         \n",
      "_________________________________________________________________\n",
      "conv2d_2 (Conv2D)            (None, 29, 29, 32)        9248      \n",
      "_________________________________________________________________\n",
      "max_pooling2d_2 (MaxPooling2 (None, 14, 14, 32)        0         \n",
      "_________________________________________________________________\n",
      "conv2d_3 (Conv2D)            (None, 12, 12, 32)        9248      \n",
      "_________________________________________________________________\n",
      "max_pooling2d_3 (MaxPooling2 (None, 6, 6, 32)          0         \n",
      "_________________________________________________________________\n",
      "flatten_1 (Flatten)          (None, 1152)              0         \n",
      "_________________________________________________________________\n",
      "dense_1 (Dense)              (None, 128)               147584    \n",
      "_________________________________________________________________\n",
      "dense_2 (Dense)              (None, 4)                 516       \n",
      "=================================================================\n",
      "Total params: 167,492\n",
      "Trainable params: 167,492\n",
      "Non-trainable params: 0\n",
      "_________________________________________________________________\n"
     ]
    }
   ],
   "source": [
    "model = Sequential()\n",
    "model.add(Conv2D(32,(3,3),input_shape=(64,64,3),activation = 'relu'))\n",
    "model.add(MaxPooling2D(pool_size=(2,2)))\n",
    "model.add(Conv2D(32,(3,3),input_shape=(64,64,3),activation = 'relu'))\n",
    "model.add(MaxPooling2D(pool_size=(2,2)))\n",
    "model.add(Conv2D(32,(3,3),input_shape=(64,64,3),activation = 'relu'))\n",
    "model.add(MaxPooling2D(pool_size=(2,2)))\n",
    "model.add(Flatten())\n",
    "model.add(Dense(units= 128 , activation = 'relu'))\n",
    "model.add(Dense(units=4,activation = 'softmax'))\n",
    "model.summary()"
   ]
  },
  {
   "cell_type": "code",
   "execution_count": 7,
   "metadata": {},
   "outputs": [],
   "source": [
    "model.compile(optimizer = 'adam',loss='categorical_crossentropy',metrics = ['accuracy'])"
   ]
  },
  {
   "cell_type": "code",
   "execution_count": 9,
   "metadata": {},
   "outputs": [
    {
     "name": "stdout",
     "output_type": "stream",
     "text": [
      "Epoch 1/6\n",
      "3000/3000 [==============================] - 1740s 580ms/step - loss: 0.0051 - acc: 0.9985 - val_loss: 0.8193 - val_acc: 0.9357\n",
      "Epoch 2/6\n",
      "3000/3000 [==============================] - 1689s 563ms/step - loss: 0.0032 - acc: 0.9991 - val_loss: 0.6792 - val_acc: 0.9534\n",
      "Epoch 3/6\n",
      "3000/3000 [==============================] - 1708s 569ms/step - loss: 0.0029 - acc: 0.9993 - val_loss: 1.0095 - val_acc: 0.9251\n",
      "Epoch 4/6\n",
      "3000/3000 [==============================] - 1760s 587ms/step - loss: 0.0021 - acc: 0.9995 - val_loss: 0.4110 - val_acc: 0.9701\n",
      "Epoch 5/6\n",
      "3000/3000 [==============================] - 1763s 588ms/step - loss: 1.5423e-04 - acc: 1.0000 - val_loss: 0.8880 - val_acc: 0.9392\n",
      "Epoch 6/6\n",
      "3000/3000 [==============================] - 1860s 620ms/step - loss: 1.3253e-06 - acc: 1.0000 - val_loss: 1.0224 - val_acc: 0.9328\n"
     ]
    },
    {
     "data": {
      "text/plain": [
       "<keras.callbacks.History at 0xf50d0f0>"
      ]
     },
     "execution_count": 9,
     "metadata": {},
     "output_type": "execute_result"
    }
   ],
   "source": [
    "model.fit_generator(train,steps_per_epoch=3000,epochs = 6,validation_data=test,validation_steps=1500)"
   ]
  },
  {
   "cell_type": "code",
   "execution_count": 11,
   "metadata": {},
   "outputs": [
    {
     "data": {
      "text/plain": [
       "{'sitting_corect_v2': 0,\n",
       " 'sitting_incorrect_v2': 1,\n",
       " 'standing_corect_v2': 2,\n",
       " 'standing_incorrect_v2': 3}"
      ]
     },
     "execution_count": 11,
     "metadata": {},
     "output_type": "execute_result"
    }
   ],
   "source": [
    "train.class_indices"
   ]
  },
  {
   "cell_type": "code",
   "execution_count": 67,
   "metadata": {},
   "outputs": [],
   "source": [
    "from keras.preprocessing import image\n",
    "imagetest = image.load_img('C:/Users/ASA/Desktop/8.jpg',target_size=(64,64))"
   ]
  },
  {
   "cell_type": "code",
   "execution_count": 68,
   "metadata": {},
   "outputs": [],
   "source": [
    "imagetest = image.img_to_array(imagetest)"
   ]
  },
  {
   "cell_type": "code",
   "execution_count": 69,
   "metadata": {},
   "outputs": [],
   "source": [
    "imagetest = np.expand_dims(imagetest,axis = 0)"
   ]
  },
  {
   "cell_type": "code",
   "execution_count": 70,
   "metadata": {},
   "outputs": [
    {
     "data": {
      "text/plain": [
       "array([[[[  84.,   42.,   28.],\n",
       "         [  75.,   39.,   27.],\n",
       "         [  96.,   58.,   39.],\n",
       "         ..., \n",
       "         [ 189.,  194.,  198.],\n",
       "         [ 191.,  194.,  199.],\n",
       "         [ 187.,  192.,  196.]],\n",
       "\n",
       "        [[  81.,   44.,   28.],\n",
       "         [  77.,   41.,   27.],\n",
       "         [  84.,   46.,   27.],\n",
       "         ..., \n",
       "         [ 188.,  191.,  198.],\n",
       "         [ 190.,  193.,  198.],\n",
       "         [ 188.,  191.,  198.]],\n",
       "\n",
       "        [[  83.,   46.,   30.],\n",
       "         [  82.,   45.,   36.],\n",
       "         [  91.,   54.,   38.],\n",
       "         ..., \n",
       "         [ 184.,  187.,  194.],\n",
       "         [ 189.,  192.,  199.],\n",
       "         [ 191.,  194.,  201.]],\n",
       "\n",
       "        ..., \n",
       "        [[ 181.,  180.,  178.],\n",
       "         [ 180.,  180.,  178.],\n",
       "         [ 181.,  180.,  178.],\n",
       "         ..., \n",
       "         [ 208.,  208.,  208.],\n",
       "         [ 209.,  209.,  209.],\n",
       "         [ 204.,  204.,  204.]],\n",
       "\n",
       "        [[ 180.,  179.,  177.],\n",
       "         [ 179.,  178.,  176.],\n",
       "         [ 182.,  180.,  181.],\n",
       "         ..., \n",
       "         [ 207.,  207.,  207.],\n",
       "         [ 207.,  207.,  207.],\n",
       "         [ 204.,  204.,  202.]],\n",
       "\n",
       "        [[ 180.,  179.,  177.],\n",
       "         [ 182.,  181.,  179.],\n",
       "         [ 184.,  183.,  181.],\n",
       "         ..., \n",
       "         [ 207.,  207.,  207.],\n",
       "         [ 209.,  209.,  207.],\n",
       "         [ 207.,  209.,  206.]]]], dtype=float32)"
      ]
     },
     "execution_count": 70,
     "metadata": {},
     "output_type": "execute_result"
    }
   ],
   "source": [
    "imagetest"
   ]
  },
  {
   "cell_type": "code",
   "execution_count": 71,
   "metadata": {},
   "outputs": [],
   "source": [
    "result=model.predict(imagetest)"
   ]
  },
  {
   "cell_type": "code",
   "execution_count": 72,
   "metadata": {},
   "outputs": [
    {
     "data": {
      "text/plain": [
       "array([[ 1.,  0.,  0.,  0.]], dtype=float32)"
      ]
     },
     "execution_count": 72,
     "metadata": {},
     "output_type": "execute_result"
    }
   ],
   "source": [
    "result"
   ]
  },
  {
   "cell_type": "code",
   "execution_count": 63,
   "metadata": {},
   "outputs": [],
   "source": [
    "if result[0][0]==1:\n",
    "    prediction = 'sitting correct'\n",
    "if result[0][0]==2:\n",
    "    prediction = 'sitting incorrect'\n",
    "if result[0][0]==3:\n",
    "    prediction = 'standing correct'\n",
    "if result[0][0]==4:\n",
    "    prediction = 'standing incorrect'"
   ]
  },
  {
   "cell_type": "code",
   "execution_count": null,
   "metadata": {},
   "outputs": [],
   "source": []
  }
 ],
 "metadata": {
  "kernelspec": {
   "display_name": "Python 3",
   "language": "python",
   "name": "python3"
  },
  "widgets": {
   "state": {},
   "version": "1.1.2"
  }
 },
 "nbformat": 4,
 "nbformat_minor": 2
}
